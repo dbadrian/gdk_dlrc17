{
 "cells": [
  {
   "cell_type": "code",
   "execution_count": 16,
   "metadata": {
    "collapsed": true
   },
   "outputs": [],
   "source": [
    "from transitions import Machine\n",
    "from transitions.extensions import MachineFactory\n",
    "from IPython.display import Image, display, display_png\n",
    "import random\n",
    "\n",
    "class Roboty(object):\n",
    "\n",
    "    states = ['searching', 'going to brick', 'picking up brick', 'going to basket', 'dropping brick']\n",
    "\n",
    "    def __init__(self, name):\n",
    "\n",
    "        self.name = name\n",
    "\n",
    "        self.bricks_in_bucket = 0\n",
    "\n",
    "        # Initialize the state machine\n",
    "        self.machine = Machine(model=self, states=Roboty.states, initial='searching')\n",
    "\n",
    "        # Add some transitions. We could also define these using a static list of\n",
    "        # dictionaries, as we did with states above, and then pass the list to\n",
    "        # the Machine initializer as the transitions= argument.\n",
    "\n",
    "        self.machine.add_transition(trigger='brick_detected', source='searching', dest='going to brick')\n",
    "\n",
    "        self.machine.add_transition('brick_lost_from_view', 'going to brick', 'searching')\n",
    "\n",
    "        self.machine.add_transition('brick_between_grippers', 'going to brick', 'picking brick up')\n",
    "        \n",
    "        self.machine.add_transition('brick_lost', 'picking up brick', 'going to brick')\n",
    "        \n",
    "        self.machine.add_transition('brick_picked_up', 'picking up brick', 'going to basket')\n",
    "        \n",
    "        self.machine.add_transition('arrive_at_basket', 'going to basket', 'dropping brick')\n",
    "        \n",
    "        self.machine.add_transition('brick_completely_lost', 'going to basket', 'searching')\n",
    "        \n",
    "        self.machine.add_transition('brick_lost', 'going to basket', 'going to brick')\n",
    "        \n",
    "        self.machine.add_transition('brick_dropped', 'dropping brick', 'searching')\n",
    "        \n",
    "        def show_graph(self, **kwargs):\n",
    "            #print(self.get_graph(**kwargs).string())\n",
    "            self.get_graph(**kwargs).draw('state.png', prog='dot')\n",
    "            display(Image('state.png')) \n"
   ]
  },
  {
   "cell_type": "code",
   "execution_count": 10,
   "metadata": {
    "collapsed": true
   },
   "outputs": [],
   "source": [
    "roby = Roboty(\"roby\")"
   ]
  },
  {
   "cell_type": "code",
   "execution_count": 11,
   "metadata": {
    "collapsed": false
   },
   "outputs": [
    {
     "data": {
      "text/plain": [
       "'searching'"
      ]
     },
     "execution_count": 11,
     "metadata": {},
     "output_type": "execute_result"
    }
   ],
   "source": [
    "roby.state"
   ]
  },
  {
   "cell_type": "code",
   "execution_count": 12,
   "metadata": {
    "collapsed": false
   },
   "outputs": [
    {
     "data": {
      "text/plain": [
       "True"
      ]
     },
     "execution_count": 12,
     "metadata": {},
     "output_type": "execute_result"
    }
   ],
   "source": [
    "roby.brick_detected()"
   ]
  },
  {
   "cell_type": "code",
   "execution_count": 13,
   "metadata": {
    "collapsed": false
   },
   "outputs": [
    {
     "data": {
      "text/plain": [
       "'going to brick'"
      ]
     },
     "execution_count": 13,
     "metadata": {},
     "output_type": "execute_result"
    }
   ],
   "source": [
    "roby.state"
   ]
  },
  {
   "cell_type": "code",
   "execution_count": 15,
   "metadata": {
    "collapsed": false
   },
   "outputs": [
    {
     "ename": "SyntaxError",
     "evalue": "invalid syntax (<ipython-input-15-d893f76cb580>, line 2)",
     "output_type": "error",
     "traceback": [
      "\u001b[0;36m  File \u001b[0;32m\"<ipython-input-15-d893f76cb580>\"\u001b[0;36m, line \u001b[0;32m2\u001b[0m\n\u001b[0;31m    machine = Machine(model=roby.machine, ...)\u001b[0m\n\u001b[0m                                          ^\u001b[0m\n\u001b[0;31mSyntaxError\u001b[0m\u001b[0;31m:\u001b[0m invalid syntax\n"
     ]
    }
   ],
   "source": [
    "from transitions.extensions import GraphMachine as Machine\n",
    "m = Model()\n",
    "machine = Machine(model=m, ...)\n",
    "# in cases where auto transitions should be visible\n",
    "# Machine(model=m, show_auto_transitions=True, ...)\n",
    "\n",
    "# draw the whole graph ...\n",
    "m.get_graph().draw('my_state_diagram.png', prog='dot')\n",
    "# ... or just the region of interest\n",
    "# (previous state, active state and all reachable states)\n",
    "m.get_graph(show_roi=True).draw('my_state_diagram.png', prog='dot')"
   ]
  },
  {
   "cell_type": "code",
   "execution_count": 17,
   "metadata": {
    "collapsed": true
   },
   "outputs": [],
   "source": [
    "GraphMachine = MachineFactory.get_predefined(graph=True, nested=True)"
   ]
  },
  {
   "cell_type": "code",
   "execution_count": 19,
   "metadata": {
    "collapsed": false
   },
   "outputs": [
    {
     "ename": "AttributeError",
     "evalue": "'Roboty' object has no attribute 'show_graph'",
     "output_type": "error",
     "traceback": [
      "\u001b[0;31m---------------------------------------------------------------------------\u001b[0m",
      "\u001b[0;31mAttributeError\u001b[0m                            Traceback (most recent call last)",
      "\u001b[0;32m<ipython-input-19-70bd4a154aa2>\u001b[0m in \u001b[0;36m<module>\u001b[0;34m()\u001b[0m\n\u001b[0;32m----> 1\u001b[0;31m \u001b[0mroby\u001b[0m\u001b[1;33m.\u001b[0m\u001b[0mshow_graph\u001b[0m\u001b[1;33m(\u001b[0m\u001b[1;33m)\u001b[0m\u001b[1;33m\u001b[0m\u001b[0m\n\u001b[0m",
      "\u001b[0;31mAttributeError\u001b[0m: 'Roboty' object has no attribute 'show_graph'"
     ]
    }
   ],
   "source": [
    "roby.show_graph()"
   ]
  },
  {
   "cell_type": "code",
   "execution_count": null,
   "metadata": {
    "collapsed": true
   },
   "outputs": [],
   "source": []
  }
 ],
 "metadata": {
  "kernelspec": {
   "display_name": "Python 2",
   "language": "python",
   "name": "python2"
  },
  "language_info": {
   "codemirror_mode": {
    "name": "ipython",
    "version": 2
   },
   "file_extension": ".py",
   "mimetype": "text/x-python",
   "name": "python",
   "nbconvert_exporter": "python",
   "pygments_lexer": "ipython2",
   "version": "2.7.13"
  }
 },
 "nbformat": 4,
 "nbformat_minor": 2
}
